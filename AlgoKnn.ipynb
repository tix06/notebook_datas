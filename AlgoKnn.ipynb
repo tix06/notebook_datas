{
 "cells": [
  {
   "cell_type": "markdown",
   "metadata": {},
   "source": [
    "# Algorithme des k plus proches voisins\n",
    "## Principe\n",
    "\n",
    "On cherche une correspondance entre les **caractéristiques physiques** d'un joueur de basket et son **poste** sur le terrain.\n",
    "\n",
    "Pour simplifier, on considerera que les postes sont au nombre de trois : \n",
    "\n",
    "* le joueur Centre, noté **'C'** (position 5 sur le schéma)\n",
    "* Le joueur Ailier, noté **'F'** (positions 3 et 4 sur le schéma)\n",
    "* Le joueur arrière ou meneur de jeu, noté **'G'** (positions 1 et 2 sur le schéma)\n",
    "\n",
    "![positions sur le terrain](https://upload.wikimedia.org/wikipedia/commons/thumb/a/ac/Basketball_Positions.png/220px-Basketball_Positions.png)\n",
    "\n",
    "Il nous faut, pour rechercher une correspondance, avoir accès à une base de données des joueurs de basket, jouant par exemple dans un même championnat.\n",
    "\n",
    "En étudiant cette première population, on va pouvoir prédire quel poste pourrait occuper un nouveau joueur entrant dans ce championnat (qui serait *drafté*), à partir de ses seules caracteristiques physiques.\n",
    "\n",
    "Cette idée est un peu simpliste : le poste occupé sur le parquet ne dépend pas, bien sur des seules caractéristiques physiques, mais aussi des copétences du joueur.\n",
    "\n",
    "Mais nous allons chercher dans ce TP si l'idée est plutôt cohérente.\n",
    "\n",
    "On va pour cela utiliser l'algorithme des _k-plus-proches-voisins_. C'est l'un des 3 algorithmes les plus utilisés dans le domaine de l'*apprentissage automatique* ou *machine learning*.\n",
    "\n",
    "Comme pour tous les types d'apprentissage automatique, le principe est le suivant : \n",
    "\n",
    "* on commence par étudier une population donnée, dite d'_entrainement_. La qualité d'échantillonnage utilisé pour cette population va déterminer la bonne prédiction par cet algorithme. L'étude de cette population doit permettre de créer des ensembles d'objets aux propriétés similaires. Par exemple, l'ensemble constitué des joueurs de type *Centre* seront probablement plus *grands* et plus *forts* que les autres joueurs.\n",
    "\n",
    "* On dispose ensuite d'une population exterieure à cet échantillonnage. On cherche à prevoir leur position sur le terrain par rapport à leurs caractéristiques physiques, d'après les résultats de l'étude préalable.\n",
    "\n",
    "## La ligue de basket NBA\n",
    "\n",
    "Les données sont issues de la page : [https://fr.global.nba.com/playerindex/](https://fr.global.nba.com/playerindex/]\n",
    "![extraitNBA](datas/extraitNBA.png)\n",
    "\n",
    "La ligue de basket americaine contient environ 400 joueurs professionnels. La plupart de nationalité américaine. On dispose d'un extrait de ce fichier (voir dans le dossier `datas`), constitué de 57 joueurs, classés par ordre alphabetique.\n",
    "\n",
    "# Chargement du fichier base de données\n",
    "## Python : librairies numpy et pandas\n",
    "Le traitement des données se fera en langage *Python*.\n",
    "\n",
    "On commence par charger les librairies utiles pour le traitement de ces données. Puis on transforme celles-ci en un DataFrame, une sorte de tableau à 2 entrées. Les valeurs de taille et de poids sont toutes de type `float` après ce premier traitement."
   ]
  },
  {
   "cell_type": "code",
   "execution_count": null,
   "metadata": {},
   "outputs": [],
   "source": [
    "import numpy as np\n",
    "import pandas as pd\n",
    "data = pd.read_csv(\"datas/joueursNBA2020.csv\", sep=\";\")\n",
    "tableau_reduit=data[['nom','equipe','poste','taille','poids','experience','pays']].dropna()\n",
    "tableau_reduit['poids']=tableau_reduit['poids'].replace(to_replace ='kg', value = '', regex = True)\n",
    "tableau_reduit['poids']=tableau_reduit['poids'].astype('float')\n",
    "tableau_reduit['taille']=tableau_reduit['taille'].astype('float')"
   ]
  },
  {
   "cell_type": "code",
   "execution_count": null,
   "metadata": {},
   "outputs": [],
   "source": [
    "tableau_reduit.head() # on affiche le debut du tableau avec la fonction .head()\n"
   ]
  },
  {
   "cell_type": "markdown",
   "metadata": {},
   "source": [
    "## Filtrer les données du DataFrame\n",
    "On peut maintenant filtrer les joueurs du tableau selon le poste du joueur.\n",
    "On utilise pour cela la fonction `.loc` associée au DataFrame. On met en paramètre un predicat qui sera testé pour chacun des objets du DataFrame. Seuls les objets au prédicat `true` sont conservés : \n",
    "\n",
    "> `ensemble = tableau_reduit.loc[tableau_reduit['poste']=='C']` \n",
    "\n",
    "> **Question :** Dans cet exemple :  A quel poste jouent les joueurs conservés dans le DataFrame `ensemble`? Vérifiez le dans la console..."
   ]
  },
  {
   "cell_type": "code",
   "execution_count": null,
   "metadata": {},
   "outputs": [],
   "source": []
  },
  {
   "cell_type": "markdown",
   "metadata": {},
   "source": [
    "## Afficher les joueurs sur un graphique taille-poids\n",
    "\n",
    "On créé une fonction `points` qui ajoute le nuage de points pour chacun des éléments de la liste `postes` mise en paramètre. On créé un nuage de points de couleur et d'étiquette différent pour chaque poste occupé.\n",
    "\n",
    "Les paramètres de cette fonction : \n",
    "\n",
    "* postes : on peut y mettre le caractère correspondant au poste comme 'G', 'F', ou 'C'. On peut aussi y mettre une liste constituée de certains, ou tous les postes.\n",
    "* Les autres paramètres sont optionnels : il s'agit de la taille et de la forme du marqueur, et de la transparence."
   ]
  },
  {
   "cell_type": "code",
   "execution_count": null,
   "metadata": {},
   "outputs": [],
   "source": [
    "import matplotlib.pyplot as plt\n",
    "from matplotlib.patches import Ellipse, Circle \n",
    "\n",
    "def points(postes,size=20,marker='o',alpha=0.5):\n",
    "    \"\"\"\n",
    "    fonction qui ajoute des points au graphique existant\n",
    "    \n",
    "    Le paramètres :\n",
    "    * postes peut être une liste de postes comme par exemple ['G','F','C']\n",
    "    ou bien un seul poste, comme par exemple 'C'\n",
    "    * les autres paramètres sont optionnels\n",
    "    \"\"\"\n",
    "    for poste in postes:\n",
    "        ensemble = tableau_reduit.loc[tableau_reduit['poste']==poste]\n",
    "        x=ensemble['taille']\n",
    "        y=ensemble['poids']\n",
    "        plt.scatter(x,y,label=poste, s=size, marker=marker, alpha=alpha)"
   ]
  },
  {
   "cell_type": "markdown",
   "metadata": {},
   "source": [
    "Avec les lignes suivantes, on affiche sur un même graphique les joueurs du tableau jouant aux postes 'G', 'F', 'C'.\n",
    "\n",
    "Les joueurs du poste 'C' sont mis en relief avec un marqueur plus gros. \n",
    "\n",
    "> **Question :** Repérez à quel endroit se regroupent les joueurs 'C'..."
   ]
  },
  {
   "cell_type": "code",
   "execution_count": null,
   "metadata": {},
   "outputs": [],
   "source": [
    "plt.title('caractéristiques des joueurs de NBA 2020')\n",
    "plt.xlabel(\"taille\")\n",
    "plt.ylabel(\"poids\")\n",
    "plt.grid(which='major', linestyle='-', linewidth='0.5', color='red')\n",
    "points(['F','G'])\n",
    "\n",
    "points('C',100,'D',1)\n",
    "axes = plt.gca()\n",
    "plt.legend()\n",
    "plt.savefig('datas/centre.png')\n",
    "plt.show()"
   ]
  },
  {
   "cell_type": "code",
   "execution_count": null,
   "metadata": {},
   "outputs": [],
   "source": []
  },
  {
   "cell_type": "markdown",
   "metadata": {},
   "source": [
    "> **Travail :** Utilisez la fonction `points` pour représenter les 3 ensembles 'C', 'F' et 'G'. Mais cette fois, on veut mettre en relief : \n",
    "\n",
    "> * les joueurs 'F' dans un 2e graphique\n",
    "> * Puis mettre en relief les joueurs 'G' dans un 3e graphique."
   ]
  },
  {
   "cell_type": "code",
   "execution_count": null,
   "metadata": {},
   "outputs": [],
   "source": [
    "# Correction\n",
    "plt.title('caractéristiques des joueurs de NBA 2020')\n",
    "plt.xlabel(\"taille\")\n",
    "plt.ylabel(\"poids\")\n",
    "plt.grid(which='major', linestyle='-', linewidth='0.5', color='red')\n",
    "#points(['F','C'])\n",
    "\n",
    "points('F',100,'D',1)\n",
    "points('G',20,'o',0.5)\n",
    "points('C',20,'o',0.5)\n",
    "axes = plt.gca()\n",
    "plt.legend()\n",
    "plt.savefig('datas/ailier.png')\n",
    "plt.show()"
   ]
  },
  {
   "cell_type": "code",
   "execution_count": null,
   "metadata": {},
   "outputs": [],
   "source": [
    "# Correction\n",
    "plt.title('caractéristiques des joueurs de NBA 2020')\n",
    "plt.xlabel(\"taille\")\n",
    "plt.ylabel(\"poids\")\n",
    "plt.grid(which='major', linestyle='-', linewidth='0.5', color='red')\n",
    "#points(['F','C'])\n",
    "\n",
    "points('F',20,'o',1)\n",
    "points('G',100,'D',0.5)\n",
    "points('C',20,'o',0.5)\n",
    "axes = plt.gca()\n",
    "plt.legend()\n",
    "plt.savefig('datas/arriere.png')\n",
    "plt.show()"
   ]
  },
  {
   "cell_type": "markdown",
   "metadata": {},
   "source": [
    "# Prediction du poste du joueur\n",
    "## population dont le poste est inconnu\n",
    "Certains joueurs ont des caractéristiques qui les rendent plus polyvalents. \n",
    "> **Question :** En observant le tableau_reduit en entier : Quels sont ces postes polyvalents ? \n",
    "\n",
    "Ces joueurs n\\'ont été mis sur aucun des  graphiques d'apprentissage vus plus haut. Et si vous utilisiez un algorithme prédictif pour deviner le meilleur poste auquel ils devraient être ? \n",
    "Nous allons étudier en détail cet algorithme, des k plus proches voisins..."
   ]
  },
  {
   "cell_type": "markdown",
   "metadata": {},
   "source": [
    "Prenons par exemple les joueurs polyvalents à l'étiquette \"G-F\". Ces joueurs, sont-ils plutôt pressentis pour être G (arrière), ou F (ailier) ?\n",
    "\n",
    "C'est ce que nous allons chercher à déterminer.\n",
    "\n",
    "> **Travail :** en utilisant la méthode `.loc` associée au DataFrame `tableau_reduit` : filtrer les joueurs dont le poste est 'G-F', et affecter ce nouveau DataFrame à la variable `ensemble`\n",
    "> Afficher alors ce nouveau tableau"
   ]
  },
  {
   "cell_type": "code",
   "execution_count": null,
   "metadata": {},
   "outputs": [],
   "source": [
    "# Correction\n",
    "ensemble = tableau_reduit.loc[tableau_reduit['poste']=='G-F']\n",
    "ensemble"
   ]
  },
  {
   "cell_type": "markdown",
   "metadata": {},
   "source": [
    "## Choisir un joueur\n",
    "> **Travail :** Repérer le numéro de l'index du premier joueur au poste 'G-F' dans ce tableau. Afficher l'ensemble des informations relatives à ce joueur à l'aide de l'instruction `ensemble.loc[numero index]`  "
   ]
  },
  {
   "cell_type": "code",
   "execution_count": null,
   "metadata": {},
   "outputs": [],
   "source": [
    "# Correction\n",
    "ensemble.loc[9]"
   ]
  },
  {
   "cell_type": "markdown",
   "metadata": {},
   "source": [
    "## Utiliser la fonction *joueur()* pour l'afficher sur le graphique\n",
    "Affichons un marqueur pour ce joueur au milieu de la distribution *d'entrainement*.\n",
    "Pour cela, on utilise une fonction de nom `joueur()` dont les paramètres sont les suivants : \n",
    "\n",
    "* num : le numero de l'index du joueur dans le tableau\n",
    "* rayon : le rayon du cercle dans lequel on recherche les k-plus proches voisins. Ce rayon est mesuré dans une unité relative au poids du joueur. L'echelle de l'axe des abscisses, la taille étant très différente, on réalise un calcul prenant en compte le ration DX/DY pour exprimer l'éloignement dans cette direction (un ecart de 10kg n'a pas la même signification qu'un écart de 10cm...)"
   ]
  },
  {
   "cell_type": "code",
   "execution_count": null,
   "metadata": {},
   "outputs": [],
   "source": [
    "def joueur(num, rayon):\n",
    "    \"\"\"\n",
    "    positionne le point relatif au joueur de numero num\n",
    "    et trace un cercle de rayon r exprimé dans une unité relative à l'axe des Y\n",
    "    Le demi axe de l'ellipse pour X est calculé par rapport au ratio = DX/DY : \n",
    "    r_X = r_y*ratio\n",
    "    \"\"\"\n",
    "    ratio = 0.005 # echelle des X / echelle des Y\n",
    "    plt.title('caractéristiques des joueurs de NBA 2020')\n",
    "    plt.xlabel(\"taille\")\n",
    "    plt.ylabel(\"poids\")\n",
    "    plt.grid(which='major', linestyle='-', linewidth='0.5', color='red')\n",
    "    points(['F','G','C'])\n",
    "    x = ensemble.loc[num]['taille']\n",
    "    y = ensemble.loc[num]['poids']\n",
    "    plt.scatter(x,y,label=poste, s=50, marker='P', alpha=1)\n",
    "    circle = plt.Circle((x, y), 1, color='r')\n",
    "    fig = plt.gcf()  # gcf() signifie obtenir le chiffre actuel\n",
    "    ax = fig.gca()  # gca() signifie Obtenir l'axe actuel\n",
    "    ax.set_aspect(ratio)  # je choisi le ratio DX/DY pour les echelles des axes\n",
    "    ax.add_artist(Ellipse((x, y), rayon*ratio, rayon, color='yellow',alpha=0.2))\n",
    "    plt.legend()\n",
    "    plt.savefig('datas/joueur'+str(num)+'.png')\n",
    "    plt.show()"
   ]
  },
  {
   "cell_type": "markdown",
   "metadata": {},
   "source": [
    "## Afficher le joueur sur le graphique\n",
    "> **Travail :** utiliser la fonction `joueur()` pour afficher un marqueur pour ce joueur. On prendra un rayon égal à 20 pour le paramètre *rayon*. "
   ]
  },
  {
   "cell_type": "code",
   "execution_count": null,
   "metadata": {},
   "outputs": [],
   "source": [
    "# correction\n",
    "joueur(9,20)"
   ]
  },
  {
   "cell_type": "markdown",
   "metadata": {},
   "source": [
    "## L'algorithme des k-plus proches voisins\n",
    "L'algorithme des k-plus proches voisins peut s'écrire en langage naturel : \n",
    "\n",
    "1) trouver dans la collection d'entrainement les k plus proches voisins du joueur\n",
    "2) Parmi ces proches voisins, trouver la classification majoritaire\n",
    "3) Renvoyer la classification majoritaire\n",
    "\n",
    "> Travail : Commencez par fabriquer un DataFrame `ensembleG` contenant tous les joueurs au poste 'G'.\n",
    "\n",
    "> Puis, avec cette même methode, construire les DataFrame `ensembleF` et `ensembleC` \n"
   ]
  },
  {
   "cell_type": "code",
   "execution_count": null,
   "metadata": {},
   "outputs": [],
   "source": [
    "# Correction\n",
    "ensembleG = tableau_reduit.loc[tableau_reduit['poste']=='G']\n",
    "ensembleF = tableau_reduit.loc[tableau_reduit['poste']=='F']\n",
    "ensembleC = tableau_reduit.loc[tableau_reduit['poste']=='C']"
   ]
  },
  {
   "cell_type": "markdown",
   "metadata": {},
   "source": [
    "> Enfin, construire un DataFrame `ensemble` qui sera réalisé par concaténation des 3 premiers.\n",
    "\n",
    "> Afficher les premieres lignes de ce DataFrame (avec la fonction `.head()` \n",
    "\n",
    "> Aide sur la fonction concat : `ensemble = pd.concat([DataFrame1,DataFrame2,DataFrame3])` "
   ]
  },
  {
   "cell_type": "code",
   "execution_count": null,
   "metadata": {},
   "outputs": [],
   "source": [
    "# Correction\n",
    "ensemble = pd.concat([ensembleG,ensembleF,ensembleC])\n",
    "ensemble.head()"
   ]
  },
  {
   "cell_type": "markdown",
   "metadata": {},
   "source": [
    "Puis ajoutons une nouvelle colonne avec la *distance* au joueur de numero `num` dans le graphique : "
   ]
  },
  {
   "cell_type": "code",
   "execution_count": null,
   "metadata": {},
   "outputs": [],
   "source": [
    "def distance(num,ratio):\n",
    "    x = tableau_reduit.loc[num]['taille']\n",
    "    y = tableau_reduit.loc[num]['poids']\n",
    "    ensemble['dist'] = ensemble.apply(lambda row: (((row[\"taille\"] - x)/ratio)**2 + (row[\"poids\"] - y)**2)**0.5, axis=1)\n",
    "    # On trie le tableau par valeur dist croissante\n",
    "    ensemble_trie = ensemble.sort_values(by = 'dist')\n",
    "    return ensemble_trie"
   ]
  },
  {
   "cell_type": "code",
   "execution_count": null,
   "metadata": {},
   "outputs": [],
   "source": [
    "ensemble_trie = distance(9,0.005)"
   ]
  },
  {
   "cell_type": "code",
   "execution_count": null,
   "metadata": {},
   "outputs": [],
   "source": [
    "ensemble_trie"
   ]
  },
  {
   "cell_type": "markdown",
   "metadata": {},
   "source": [
    "## Trier les résultats\n",
    "On voudrait maintenant dénombrer, par poste, les joueurs aux caractéristiques les plus proches de notre joueur au poste inconnu. Sur un echantillon des k premiers joueurs du tableau précédent.\n",
    "\n",
    "> **Travail :** Créer une fonction knn(k) qui renvoie un dictionnaire `score` avec pour chacune des clés, 'G', 'F', et 'G', le nombre de joueurs du tableau parmi les k premiers."
   ]
  },
  {
   "cell_type": "code",
   "execution_count": null,
   "metadata": {},
   "outputs": [],
   "source": [
    "# Correction\n",
    "def knn(k):\n",
    "    score={'G':0,'F':0,'C':0}\n",
    "    for i in range(k):\n",
    "        z=ensemble_trie.index[i]\n",
    "        if ensemble_trie.loc[z]['poste']=='G' : \n",
    "            score['G']+=1\n",
    "        elif ensemble_trie.loc[z]['poste']=='F' :\n",
    "            score['F']+=1  \n",
    "        else : score['C']+=1\n",
    "    return score  "
   ]
  },
  {
   "cell_type": "markdown",
   "metadata": {},
   "source": [
    "On peut afficher les 3 premiers joueurs du tableau trié, avec l'une des méthodes associée au DataFrame : \n",
    "\n",
    "\n",
    "`DataFrame.head(nombre de lignes à afficher)`\n"
   ]
  },
  {
   "cell_type": "code",
   "execution_count": null,
   "metadata": {},
   "outputs": [],
   "source": [
    "ensemble_trie.head(3)"
   ]
  },
  {
   "cell_type": "code",
   "execution_count": null,
   "metadata": {},
   "outputs": [],
   "source": [
    "knn(3)"
   ]
  },
  {
   "cell_type": "markdown",
   "metadata": {},
   "source": [
    "> **Travail :** Ecrire une fonction qui renvoie le poste le plus représenté selon la valeur de k choisie. Faites alors quelques essais. Conclure quand à la pertinence du résultat selon la valeur de k choisie."
   ]
  },
  {
   "cell_type": "code",
   "execution_count": null,
   "metadata": {},
   "outputs": [],
   "source": []
  },
  {
   "cell_type": "markdown",
   "metadata": {},
   "source": [
    "## Prolongement\n",
    "On peut réaliser ce même travail : pour rechercher les k plus proches voisins :\n",
    "\n",
    "* d'un autre joueur au profil 'G-F'\n",
    "* pour un joueur d'un autre profil, comme par exemple 'F-G'"
   ]
  },
  {
   "cell_type": "code",
   "execution_count": null,
   "metadata": {},
   "outputs": [],
   "source": []
  },
  {
   "cell_type": "markdown",
   "metadata": {},
   "source": [
    "# Liens\n",
    "* TP du site infoforall.fr avec des joueurs de football : [https://www.infoforall.fr/act/algo/k-plus-proches-voisins](https://www.infoforall.fr/act/algo/k-plus-proches-voisins)\n",
    "* TP du site Lyceum.fr sur la prevision d'une mention au conseil de classe : [https://lyceum.fr/1g/nsi/8-algorithmique/3-algorithme-des-k-plus-proches-voisins](https://lyceum.fr/1g/nsi/8-algorithmique/3-algorithme-des-k-plus-proches-voisins)\n",
    "* Cours sur pixees.fr: https://pixees.fr/informatiquelycee/n_site/nsi_prem_knn.html\n",
    "* Article Wikipedia: https://fr.wikipedia.org/wiki/M%C3%A9thode_des_k_plus_proches_voisins\n",
    "\n",
    "\n"
   ]
  },
  {
   "cell_type": "code",
   "execution_count": null,
   "metadata": {},
   "outputs": [],
   "source": []
  }
 ],
 "metadata": {
  "kernelspec": {
   "display_name": "Python 3",
   "language": "python",
   "name": "python3"
  },
  "language_info": {
   "codemirror_mode": {
    "name": "ipython",
    "version": 3
   },
   "file_extension": ".py",
   "mimetype": "text/x-python",
   "name": "python",
   "nbconvert_exporter": "python",
   "pygments_lexer": "ipython3",
   "version": "3.7.6"
  }
 },
 "nbformat": 4,
 "nbformat_minor": 4
}
