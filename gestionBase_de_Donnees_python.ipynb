{
 "cells": [
  {
   "cell_type": "markdown",
   "metadata": {},
   "source": [
    "# Python : la librairie pandas\n",
    "## présentation\n",
    "Pandas fournit des structures de données puissantes et simples à utiliser, ainsi que les moyens d'opérer rapidement des opérations sur ces structures.\n",
    "\n",
    "Cette librairie va utiliser et faire des opérations sur un objet : le *DataFrame*\n",
    "Ce DataFrame est très similaire aux tables des bases de données relationnelles (type MySQL, PostgreSQL, etc.) que l'on manipule grâce au langage SQL.\n",
    "\n",
    "Ce notebook est inspiré du cours en ligne : \n",
    "\n",
    "[https://openclassrooms.com/fr/courses/4452741-decouvrez-les-librairies-python-pour-la-data-science/5558996-passez-de-numpy-a-pandas](https://openclassrooms.com/fr/courses/4452741-decouvrez-les-librairies-python-pour-la-data-science/5558996-passez-de-numpy-a-pandas)\n",
    "\n",
    "## représentation d'un tableau avec la librairie numpy\n",
    "*numpy* est une librairie utile pour de nombreuses applications mathématiques. *numpy* permet de manipuler facilement des tableaux. Un tableau est une liste contenant une nouvelle liste pour chacun de ses éléments. C'est une liste de listes.\n",
    "\n",
    "L'avantage de manipuler des tableaux, *(array)*, plutôt que des listes, c'est de pouvoir réaliser des calculs sur les valeurs comme si la structure de donnée était une matrice.\n",
    "\n",
    "On va voir ici que cette représentation des données n'est pas la meilleure façon qu'il soit lorsqu'on l'utilise pour une collection (par exemple pour des *informations*).\n",
    "\n",
    "Prenons l'exemple de la **programmation d'une salle de cinéma** de type cinémathèque :  \n",
    "\n",
    "On renseigne pour chacune des salles de ce cinéma (pour chacune des lignes), les valeurs : le titre du film (colonne 1), horaire (colonne 2), realisateur (col 3), année (col 4)."
   ]
  },
  {
   "cell_type": "code",
   "execution_count": null,
   "metadata": {},
   "outputs": [],
   "source": [
    "#************************************#\n",
    "#****** un premier exemple **********#\n",
    "#******* de numpy à panda ***********#\n",
    "#************************************#\n",
    "\n",
    "import numpy as np\n",
    "tableau2D = [\n",
    "    ['la rage aux poings', '18h00' , 'Eric le Hung', 1975], # film projeté dans la salle 1\n",
    "    ['le million' , '15h00', 'René Clair', 1931], # dans la salle 2\n",
    "    ['Rendez vous à Badenberg', '21h00'  , 'René Meurice', 1970], # dans la salle 3\n",
    "    ['Le cercle rouge', '18h05', 'Jean-Pierre Melville', 1970], # dans la salle 4\n",
    "]\n",
    "tableau_numpy = np.array(tableau2D)\n",
    "tableau_numpy"
   ]
  },
  {
   "cell_type": "code",
   "execution_count": null,
   "metadata": {},
   "outputs": [],
   "source": [
    "# acceder à l'élément de rang 3 de la ligne 0 : \n",
    "tableau_numpy[0,3]"
   ]
  },
  {
   "cell_type": "code",
   "execution_count": null,
   "metadata": {},
   "outputs": [],
   "source": [
    "# acceder à TOUS les elements au rang 0 (donc la première colonne)\n",
    "tableau_numpy[:,0]"
   ]
  },
  {
   "cell_type": "markdown",
   "metadata": {},
   "source": [
    "C'est assez pratique certes, mais `tableau_numpy[:, 0]`  quand cette colonne possède un descripteur (le nom du film), ce n'est pas très explicite. \n",
    "\n",
    "On va voir maintenant ce qu'apporte la représentation des données avec la librairie *Pandas*.\n",
    "\n",
    "## représentation des données avec la librairie pandas\n",
    "\n",
    "Les données sont maintenant mises dans un *DataFrame*, et plus un tableau *array*."
   ]
  },
  {
   "cell_type": "code",
   "execution_count": null,
   "metadata": {},
   "outputs": [],
   "source": [
    "#***************************#\n",
    "#**** creer un DataFrame ***#\n",
    "#***************************#\n",
    "\n",
    "import pandas as pd  # on importe la librairie pandas\n",
    "tableau2D_df = pd.DataFrame(tableau2D) # on créé un DataFrame tableau2D_df à partir de l'array tableau2D\n",
    "tableau2D_df # et on l'affiche\n"
   ]
  },
  {
   "cell_type": "code",
   "execution_count": null,
   "metadata": {},
   "outputs": [],
   "source": [
    "#******************************************#\n",
    "#********** passage du tableau np *********#\n",
    "#*** ainsi que les index et descripteurs **#\n",
    "#******************************************#\n",
    "\n",
    "tableau2D_df = pd.DataFrame(tableau_numpy,\n",
    "                                index = ['salle 1', 'salle 2', 'salle 3','salle 4'],\n",
    "                                columns = ['titre', 'horaire', 'realisateur', 'année'])\n",
    "tableau2D_df"
   ]
  },
  {
   "cell_type": "markdown",
   "metadata": {},
   "source": [
    "On peut maintenant réduire le tableau en une seule colonne, par exemple celle dont l'etiquette est *horaire*. On obtient alors une *serie* de données."
   ]
  },
  {
   "cell_type": "code",
   "execution_count": null,
   "metadata": {},
   "outputs": [],
   "source": [
    "# reduire le tableau (SELECT)\n",
    "tableau2D_df.horaire     # 1ere methode\n",
    "tableau2D_df['horaire'] # 2e methode"
   ]
  },
  {
   "cell_type": "markdown",
   "metadata": {},
   "source": [
    "Et si l'on a besoin d'une série comprenant 2 colonnes (ou plus), on utilise la syntaxe suivante : "
   ]
  },
  {
   "cell_type": "code",
   "execution_count": null,
   "metadata": {},
   "outputs": [],
   "source": [
    "tableau2D_df[[\"titre\",\"horaire\"]]"
   ]
  },
  {
   "cell_type": "markdown",
   "metadata": {},
   "source": [
    "## parcours et exploration des données\n",
    "On peut utiliser une boucle bornée qui, à chaque itération, donne :\n",
    "\n",
    "* l'indice \n",
    "* le contenu de la serie pour cet index (c'est à dire les valeurs et leur etiquette pour chacun des objets)\n",
    "\n",
    "On utilise la fonction `iterrow` associée au DataFrame : \n",
    "\n",
    "```\n",
    "for index, valeurs in DataFrame.iterrows() : \n",
    "    ...\n",
    "```"
   ]
  },
  {
   "cell_type": "code",
   "execution_count": null,
   "metadata": {},
   "outputs": [],
   "source": [
    "# parcourir\n",
    "for ind_ligne, contenu_ligne in tableau2D_df.iterrows():\n",
    "    print(\"Voici le film de la %s :\" % ind_ligne)\n",
    "    print(contenu_ligne)\n",
    "    print(\"--------------------\")"
   ]
  },
  {
   "cell_type": "markdown",
   "metadata": {},
   "source": [
    "## accéder à un seul des objets de la collection\n",
    "Cette fois, plutôt que d'utiliser une boucle bornée et d'afficher TOUS les objets de la collection, on cherche à en afficher un seul.\n",
    "\n",
    "Cette fois le tri ne se fait pas selon une colonne, comme par exemple pour `tableau2D_df['ventre']` mais par ligne, avec : \n",
    "\n",
    "`tableau_2D_df.loc['salle 3']  par exemple\n",
    "\n",
    "On aura ainsi le descriptif du film programmé dans cette salle."
   ]
  },
  {
   "cell_type": "code",
   "execution_count": null,
   "metadata": {},
   "outputs": [],
   "source": [
    "# acceder à un objet\n",
    "tableau2D_df.iloc[2] # Avec iloc(), indexation positionnelle\n",
    "tableau2D_df.loc[\"salle 3\"] # Avec loc(), indexation par label"
   ]
  },
  {
   "cell_type": "markdown",
   "metadata": {},
   "source": [
    "## Rechercher un film\n",
    "On va maintenant trier le tableau jusqu'à trouver l'élement correspondant.\n",
    "\n",
    "On cherche par exemple, dans quelle salle passe le film *'Rendez vous à Badenberg'* : La colonne correspondant à cette valeur est celle dont l'etiquette est `'titre'`. On écrit alors une expression logique, qui est évaluée pour chaque objet, et qui renvoie `true` si le titre correspond à celui recherché, et `false` sinon.\n",
    "\n",
    "La console affiche alors une serie de données : "
   ]
  },
  {
   "cell_type": "code",
   "execution_count": null,
   "metadata": {},
   "outputs": [],
   "source": [
    "# trier (WHERE)\n",
    "tableau2D_df[\"titre\"] == 'Rendez vous à Badenberg'"
   ]
  },
  {
   "cell_type": "markdown",
   "metadata": {},
   "source": [
    "> **Question :** Ecrire l'instruction qui renverra `true` pour toutes les salles projettant un film réalisé en 1970.\n",
    "> Testez votre instruction dans la cellule suivante."
   ]
  },
  {
   "cell_type": "code",
   "execution_count": null,
   "metadata": {},
   "outputs": [],
   "source": []
  },
  {
   "cell_type": "markdown",
   "metadata": {},
   "source": [
    "## filtrer les données du tableau\n",
    "On va maintenant appliquer l'expression logique vue plus haut pour reduire le DataFrame aux seuls objets pour lesquels l'expression renvoie `true`. On dit que l'on a **filtré** les données.\n",
    "\n",
    "**Premier exemple :** filtrage du tableau pour ne conserver que la salle dans laquelle passe le film *'Rendez vous à Badenberg'*. On obtient alors un nouveau DataFrame, mais réduit."
   ]
  },
  {
   "cell_type": "code",
   "execution_count": null,
   "metadata": {},
   "outputs": [],
   "source": [
    "# masquer (WHERE)\n",
    "tableau_filtre = tableau2D_df[tableau2D_df[\"titre\"] == 'Rendez vous à Badenberg']\n",
    "\n",
    "tableau_filtre # on affiche le tableau filtré"
   ]
  },
  {
   "cell_type": "markdown",
   "metadata": {},
   "source": [
    "**Exemple 2 :** on cherche le complémentaire de l'expression precedente : filtrer et renvoyer tous les films DIFFERENTS de *`Rendez vous à Badenberg'\n",
    "\n",
    "On utilise pour cela le symbole ~ (tild) devant l'expression dont on veut le complémentaire : "
   ]
  },
  {
   "cell_type": "code",
   "execution_count": null,
   "metadata": {},
   "outputs": [],
   "source": [
    "tableau_comp = tableau2D_df[~(tableau2D_df[\"titre\"] == 'Rendez vous à Badenberg')]\n",
    "tableau_comp"
   ]
  },
  {
   "cell_type": "markdown",
   "metadata": {},
   "source": [
    "**Exemple 3 :** filtrer par rapport aux dates de réalisation.\n",
    "\n",
    "> **Travail :** ecrire l'instruction qui renvoie un nouveau DataFrame, mais uniquement avec des films réalisés en 1970"
   ]
  },
  {
   "cell_type": "code",
   "execution_count": null,
   "metadata": {},
   "outputs": [],
   "source": []
  },
  {
   "cell_type": "markdown",
   "metadata": {},
   "source": [
    "## trier le tableau\n",
    "On peut vouloir maintenant afficher les films dans l'ordre croissant de diffusion dans la journée.\n",
    "Pour des raisons de commodité, on modifie le format de l'heure de diffusion pour que le type de données soit `float` et non `str`. Par exemple : '18h00' => 18.00 "
   ]
  },
  {
   "cell_type": "code",
   "execution_count": null,
   "metadata": {},
   "outputs": [],
   "source": [
    "tableau2D_df['horaire']=[18,15,20,18.1]\n",
    "tableau2D_df # on affiche le tableau"
   ]
  },
  {
   "cell_type": "markdown",
   "metadata": {},
   "source": [
    "On peut maintenant trier ce tableau selon l'horaire : "
   ]
  },
  {
   "cell_type": "code",
   "execution_count": null,
   "metadata": {},
   "outputs": [],
   "source": [
    "tableau2D_df.sort_values(by ='horaire')"
   ]
  },
  {
   "cell_type": "markdown",
   "metadata": {},
   "source": [
    "Et voilà, vous n'avez plus aucun excuse pour rater une seance ;-)\n",
    "\n",
    "# Traitement de données en csv\n",
    "Le fichier joint `joueursNBA2020.csv` est un extrait des joueurs professionnels de basket de NBA, pour la saison 2019-2020. On va utiliser la librairie pandas pour ouvrir puis explorer ce fichier."
   ]
  },
  {
   "cell_type": "code",
   "execution_count": null,
   "metadata": {},
   "outputs": [],
   "source": [
    "#******************************************#\n",
    "#******************** fichier csv *********#\n",
    "#******************************************#\n",
    "data = pd.read_csv(\"datas/joueursNBA2020.csv\", sep=\";\")"
   ]
  },
  {
   "cell_type": "code",
   "execution_count": null,
   "metadata": {},
   "outputs": [],
   "source": [
    "data"
   ]
  },
  {
   "cell_type": "markdown",
   "metadata": {},
   "source": [
    "Les données recupérées doivent souvent être remises en forme. Le tableau ci-dessus présente plusieurs problèmes qui doivent être traités avant de pouvoir exploiter les données : \n",
    "\n",
    "* Il y a des colonnes *Unnamed* qui ne servent à rien : elles seront à supprimer\n",
    "* Il y a plus de lignes que de joueurs. Ces lignes ont pour valeur `NaN`. Il faudra aussi les supprimer.\n",
    "* Le poids des joueurs, dans la colonne 'poids' est exprimé sous format `str`. Les valeurs sont écrites avec l'unité, *kg*. Il vaudra mieux les tranformer en type `float`, en retirant les caractères *kg*."
   ]
  },
  {
   "cell_type": "code",
   "execution_count": null,
   "metadata": {},
   "outputs": [],
   "source": []
  },
  {
   "cell_type": "code",
   "execution_count": null,
   "metadata": {},
   "outputs": [],
   "source": [
    "#***************************************#\n",
    "# en pratique **************************#\n",
    "# selection des colonnes renseignées    #\n",
    "# et suppression des lignes NaN         #\n",
    "# avec .dropna()                        #\n",
    "#***************************************#\n",
    "tableau_reduit=data[['nom','equipe','poste','taille','poids','experience','pays']].dropna()"
   ]
  },
  {
   "cell_type": "code",
   "execution_count": null,
   "metadata": {},
   "outputs": [],
   "source": [
    "#*************************************#\n",
    "# puis `cast` de la colonne poids     #\n",
    "# les valeurs sont de type str et     #\n",
    "# combinent des float avec kg         #\n",
    "# par exemple 89.8 kg                 #\n",
    "#*************************************#\n",
    "\n",
    "tableau_reduit['poids']=tableau_reduit['poids'].replace(to_replace ='kg', value = '', regex = True) "
   ]
  },
  {
   "cell_type": "code",
   "execution_count": null,
   "metadata": {},
   "outputs": [],
   "source": [
    "#************************************#\n",
    "# puis conversion du type            #\n",
    "# str vers float                     #\n",
    "# **********CAST ********************#\n",
    "#************************************#\n",
    "\n",
    "tableau_reduit['poids']=tableau_reduit['poids'].astype('float')"
   ]
  },
  {
   "cell_type": "code",
   "execution_count": null,
   "metadata": {},
   "outputs": [],
   "source": [
    "tableau_reduit.loc[1]['poids']"
   ]
  },
  {
   "cell_type": "code",
   "execution_count": null,
   "metadata": {},
   "outputs": [],
   "source": [
    "tableau_reduit"
   ]
  },
  {
   "cell_type": "markdown",
   "metadata": {},
   "source": [
    "Et voila, il n'y a plus qu'à explorer ce tableau de données. On peut par exemple : \n",
    "    \n",
    "* filtrer le tableau pour n'afficher que les joueurs du poste 'C'\n",
    "* filtrer les joueurs pour ne conserver que les joueurs de nationalité autre que americaine.\n",
    "* Trier les joueurs par taille, ou par poids\n",
    "\n",
    "> **Travail :** Testez certaines des propositions faites ici..."
   ]
  },
  {
   "cell_type": "code",
   "execution_count": null,
   "metadata": {},
   "outputs": [],
   "source": []
  },
  {
   "cell_type": "markdown",
   "metadata": {},
   "source": [
    "# Liens\n",
    "\n",
    "* Cours sur openclassroom.com : decouvrir la librairie pandas : [https://openclassrooms.com/fr/courses/4452741-decouvrez-les-librairies-python-pour-la-data-science/5558996-passez-de-numpy-a-pandas](https://openclassrooms.com/fr/courses/4452741-decouvrez-les-librairies-python-pour-la-data-science/5558996-passez-de-numpy-a-pandas)\n",
    "* kaggle.com presentation des dataframes : [https://www.kaggle.com/arnopub/pandas-pr-sentation-des-dataframe](https://www.kaggle.com/arnopub/pandas-pr-sentation-des-dataframe)\n",
    "* documentation officielle : [https://pandas.pydata.org/pandas-docs/stable/reference/api/pandas.DataFrame.html](https://pandas.pydata.org/pandas-docs/stable/reference/api/pandas.DataFrame.html)\n"
   ]
  },
  {
   "cell_type": "code",
   "execution_count": null,
   "metadata": {},
   "outputs": [],
   "source": []
  }
 ],
 "metadata": {
  "kernelspec": {
   "display_name": "Python 3",
   "language": "python",
   "name": "python3"
  },
  "language_info": {
   "codemirror_mode": {
    "name": "ipython",
    "version": 3
   },
   "file_extension": ".py",
   "mimetype": "text/x-python",
   "name": "python",
   "nbconvert_exporter": "python",
   "pygments_lexer": "ipython3",
   "version": "3.7.6"
  }
 },
 "nbformat": 4,
 "nbformat_minor": 4
}
